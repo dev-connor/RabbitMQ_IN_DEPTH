{
 "cells": [
  {
   "cell_type": "code",
   "execution_count": null,
   "metadata": {
    "collapsed": false
   },
   "outputs": [],
   "source": [
    "import rabbitpy"
   ]
  },
  {
   "cell_type": "code",
   "execution_count": null,
   "metadata": {
    "collapsed": false
   },
   "outputs": [],
   "source": [
    "with rabbitpy.Connection() as connection:\n",
    "    with connection.channel() as channel:\n",
    "        tpc = rabbitpy.Exchange(channel, 'events', \n",
    "                                exchange_type='topic')\n",
    "        tpc.declare()\n",
    "        xch = rabbitpy.Exchange(channel, 'distributed-events',\n",
    "                                exchange_type='x-consistent-hash')\n",
    "        xch.declare()\n",
    "        xch.bind(tpc, '#')"
   ]
  }
 ],
 "metadata": {
  "kernelspec": {
   "display_name": "Python 2",
   "language": "python",
   "name": "python2"
  },
  "language_info": {
   "codemirror_mode": {
    "name": "ipython",
    "version": 2
   },
   "file_extension": ".py",
   "mimetype": "text/x-python",
   "name": "python",
   "nbconvert_exporter": "python",
   "pygments_lexer": "ipython2",
   "version": "2.7.6"
  }
 },
 "nbformat": 4,
 "nbformat_minor": 0
}
