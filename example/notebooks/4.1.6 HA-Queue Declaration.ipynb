{
 "cells": [
  {
   "cell_type": "code",
   "execution_count": null,
   "metadata": {
    "collapsed": false
   },
   "outputs": [],
   "source": [
    "import rabbitpy"
   ]
  },
  {
   "cell_type": "code",
   "execution_count": null,
   "metadata": {
    "collapsed": false
   },
   "outputs": [],
   "source": [
    "connection = rabbitpy.Connection()\n",
    "try:\n",
    "    with connection.channel() as channel:\n",
    "        queue = rabbitpy.Queue(channel,\n",
    "                               'my-ha-queue',               \n",
    "                               arguments={'x-ha-policy': 'all'})\n",
    "        if queue.declare():\n",
    "            print('Queue declared')\n",
    "except rabbitpy.exceptions.RemoteClosedChannelException as error:\n",
    "    print('Queue declare failed: %s' % error)"
   ]
  }
 ],
 "metadata": {
  "kernelspec": {
   "display_name": "Python 2",
   "language": "python",
   "name": "python2"
  },
  "language_info": {
   "codemirror_mode": {
    "name": "ipython",
    "version": 2
   },
   "file_extension": ".py",
   "mimetype": "text/x-python",
   "name": "python",
   "nbconvert_exporter": "python",
   "pygments_lexer": "ipython2",
   "version": "2.7.6"
  }
 },
 "nbformat": 4,
 "nbformat_minor": 0
}
