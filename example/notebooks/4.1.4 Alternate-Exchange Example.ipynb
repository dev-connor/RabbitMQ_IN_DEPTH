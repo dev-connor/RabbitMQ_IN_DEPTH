{
 "cells": [
  {
   "cell_type": "code",
   "execution_count": null,
   "metadata": {
    "collapsed": false
   },
   "outputs": [],
   "source": [
    "import rabbitpy"
   ]
  },
  {
   "cell_type": "code",
   "execution_count": null,
   "metadata": {
    "collapsed": false
   },
   "outputs": [],
   "source": [
    "with rabbitpy.Connection() as connection:\n",
    "    with connection.channel() as channel:\n",
    "        my_ae = rabbitpy.Exchange(channel, 'my-ae',\n",
    "                                  exchange_type='fanout')   \n",
    "        my_ae.declare()\n",
    "        args = {'alternate-exchange': my_ae.name}\n",
    "        exchange = rabbitpy.Exchange(channel,\n",
    "                                     'graphite', \n",
    "                                     exchange_type='topic',                    \n",
    "                                     arguments=args) \n",
    "        exchange.declare()\n",
    "        queue = rabbitpy.Queue(channel, 'unroutable-messages')\n",
    "        queue.declare()\n",
    "        if queue.bind(my_ae, '#'):\n",
    "            print('Queue bound to alternate-exchange')"
   ]
  }
 ],
 "metadata": {
  "kernelspec": {
   "display_name": "Python 2",
   "language": "python",
   "name": "python2"
  },
  "language_info": {
   "codemirror_mode": {
    "name": "ipython",
    "version": 2
   },
   "file_extension": ".py",
   "mimetype": "text/x-python",
   "name": "python",
   "nbconvert_exporter": "python",
   "pygments_lexer": "ipython2",
   "version": "2.7.6"
  }
 },
 "nbformat": 4,
 "nbformat_minor": 0
}
