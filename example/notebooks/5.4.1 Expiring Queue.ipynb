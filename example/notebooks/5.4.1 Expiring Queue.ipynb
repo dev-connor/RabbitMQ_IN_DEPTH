{
 "cells": [
  {
   "cell_type": "code",
   "execution_count": null,
   "metadata": {
    "collapsed": false
   },
   "outputs": [],
   "source": [
    "import rabbitpy\n",
    "import time"
   ]
  },
  {
   "cell_type": "code",
   "execution_count": null,
   "metadata": {
    "collapsed": false
   },
   "outputs": [],
   "source": [
    "with rabbitpy.Connection() as connection:\n",
    "    with connection.channel() as channel:\n",
    "        queue = rabbitpy.Queue(channel, 'expiring-queue',\n",
    "                               arguments={'x-expires': 1000})\n",
    "        queue.declare()\n",
    "        messages, consumers = queue.declare(passive=True)\n",
    "        time.sleep(2)\n",
    "        try:\n",
    "            messages, consumers = queue.declare(passive=True)\n",
    "        except rabbitpy.exceptions.AMQPNotFound:\n",
    "            print('The queue no longer exists')"
   ]
  }
 ],
 "metadata": {
  "kernelspec": {
   "display_name": "Python 2",
   "language": "python",
   "name": "python2"
  },
  "language_info": {
   "codemirror_mode": {
    "name": "ipython",
    "version": 2
   },
   "file_extension": ".py",
   "mimetype": "text/x-python",
   "name": "python",
   "nbconvert_exporter": "python",
   "pygments_lexer": "ipython2",
   "version": "2.7.6"
  }
 },
 "nbformat": 4,
 "nbformat_minor": 0
}
