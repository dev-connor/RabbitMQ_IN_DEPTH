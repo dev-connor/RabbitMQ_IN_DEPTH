{
 "cells": [
  {
   "cell_type": "code",
   "execution_count": null,
   "metadata": {
    "collapsed": false
   },
   "outputs": [],
   "source": [
    "import datetime\n",
    "import rabbitpy"
   ]
  },
  {
   "cell_type": "code",
   "execution_count": null,
   "metadata": {
    "collapsed": false
   },
   "outputs": [],
   "source": [
    "with rabbitpy.Connection() as connection:\n",
    "    with connection.channel() as channel:\n",
    "        # Create the message to send\n",
    "        body = 'server.cpu.utilization 25.5 1350884514'\n",
    "        message = rabbitpy.Message(channel,\n",
    "                                   body,\n",
    "                                   {'content_type': 'text/plain',\n",
    "                                    'timestamp': datetime.datetime.now(),\n",
    "                                    'message_type': 'graphite metric'})\n",
    "\n",
    "        # Publish the message to the exchange with the routing key \n",
    "        # \"server-metrics\" and make sure it is routed to the exchange\n",
    "        message.publish('chapter2-example', 'server-metrics', mandatory=True)"
   ]
  }
 ],
 "metadata": {
  "kernelspec": {
   "display_name": "Python 2",
   "language": "python",
   "name": "python2"
  },
  "language_info": {
   "codemirror_mode": {
    "name": "ipython",
    "version": 2
   },
   "file_extension": ".py",
   "mimetype": "text/x-python",
   "name": "python",
   "nbconvert_exporter": "python",
   "pygments_lexer": "ipython2",
   "version": "2.7.6"
  }
 },
 "nbformat": 4,
 "nbformat_minor": 0
}
